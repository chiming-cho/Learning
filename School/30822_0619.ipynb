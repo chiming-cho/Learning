{
 "cells": [
  {
   "cell_type": "markdown",
   "metadata": {
    "id": "B7OLP4GtzjFI"
   },
   "source": [
    "#### **인공 신경망**\n",
    "- 사람의 뇌처럼 퍼셉트론을 연결하여 마치 인간의 뇌처럼 구성한 것\n",
    "- 입력층: 퍼셉트론에서 입력값을 보내는 층\n",
    "- 출력층: 값을 받아서 출력하는 층\n",
    "- 은닉층: 입력층과 출력층 사이에 있는 중간 층, 여러 노드에서 만들어진 값별로 적절한 가중치를 부여해서 다음 출력값에 반영한다.\n",
    "- 활성화 함수: 입력값의 연산 결과가 임계값을 넘으면 다음 퍼셉트론으로 결과를 출력할 때 임계값을 넘는지 판단하는 함수\n",
    "\n",
    "#### **딥러닝 알고리즘**\n",
    "* 인공 신경망 (ANN)\n",
    "  - Artificial Nerual Network\n",
    "* 심층 신경망 (DNN)\n",
    "  - Deep Neural Network\n",
    "  - 다수의 은닉층을 사용하여 단층 퍼셉트론에 비해 우수한 성능을 가지고 있다.\n",
    "* 합성곱 신경망 (CNN)\n",
    "  - Convolutional Neural Network\n",
    "  - 이미지 처리에 적합한 딥러닝 방식이다.\n",
    "* 순환 신경망 (RNN)\n",
    "  - Recurrent Neural Network\n",
    "  - 계층의 출력이 순환하여 언어, 수식과 같은 모델의 처리에 적합하다.\n",
    "\n",
    "#### **딥러닝의 활용**\n",
    "- 언어 번역, 사진 분석과 같은 비정형 데이터 처리 시 사용\n",
    "\n",
    "#### **DNN의 기본 동작 원리 파악하기**\n",
    "1. 데이터 준비 및 전처리\n",
    "2. 입력층, 은닉층, 출력층 설계\n",
    "3. 최적화 기법 설계\n",
    "4. 딥러닝 실행\n",
    "5. 딥러닝 모델 저장\n",
    "6. 저장된 딥러닝 모델을 불러 예측에 사용 (분류 예측)\n"
   ]
  },
  {
   "cell_type": "code",
   "execution_count": null,
   "metadata": {
    "executionInfo": {
     "elapsed": 7808,
     "status": "ok",
     "timestamp": 1750315412334,
     "user": {
      "displayName": "30822 조인성 jh",
      "userId": "11532178935489704434"
     },
     "user_tz": -540
    },
    "id": "b7dNPwhMx8NR"
   },
   "outputs": [],
   "source": [
    "from tensorflow.keras.models import Sequential\n",
    "from tensorflow.keras.layers import Dense"
   ]
  },
  {
   "cell_type": "code",
   "execution_count": null,
   "metadata": {
    "executionInfo": {
     "elapsed": 2,
     "status": "ok",
     "timestamp": 1750315412345,
     "user": {
      "displayName": "30822 조인성 jh",
      "userId": "11532178935489704434"
     },
     "user_tz": -540
    },
    "id": "BIDR0eE62mrC"
   },
   "outputs": [],
   "source": [
    "import numpy\n",
    "import tensorflow as tf"
   ]
  },
  {
   "cell_type": "code",
   "execution_count": null,
   "metadata": {
    "colab": {
     "base_uri": "https://localhost:8080/"
    },
    "executionInfo": {
     "elapsed": 13,
     "status": "ok",
     "timestamp": 1750315412360,
     "user": {
      "displayName": "30822 조인성 jh",
      "userId": "11532178935489704434"
     },
     "user_tz": -540
    },
    "id": "QL6fT4fg2tBB",
    "outputId": "beab05d2-64b6-4632-ed6e-65c0bb5859d5"
   },
   "outputs": [],
   "source": [
    "data_set = numpy.loadtxt(\"/content/Ⅳ131_thoraric_data_01.csv\", delimiter=',')\n",
    "X = data_set[:,0:17] # 리스트이다.\n",
    "Y = data_set[:,17]\n",
    "# 수술 결과를 X와 Y로 구분하여 저장한다.\n",
    "# 맨 끝에 있는 정답 (17번째 자리) 을 Y로 나눈다.\n",
    "\n",
    "print(data_set)"
   ]
  },
  {
   "cell_type": "code",
   "execution_count": null,
   "metadata": {
    "id": "Phn2ZWir3kRr"
   },
   "outputs": [],
   "source": [
    "model = Sequential() # 모델의 이름을 설정해준다.\n",
    "model.add(Dense(30, input_dim=17, activation='relu'))\n",
    "model.add(Dense(20, activation='relu'))\n",
    "model.add(Dense(10, activation='relu'))\n",
    "model.add(Dense(1, activation='sigmoid'))"
   ]
  },
  {
   "cell_type": "markdown",
   "metadata": {
    "id": "f3Ige6V34CUN"
   },
   "source": [
    "- add: 레이어 넣기, 첫번째 줄은 입력층과 은닉층, 마지막 것은 출력층이다. 따라서 add 들어있는 줄이 4개면 은닉층은 3개.\n",
    "- Dense:\n",
    "- Dense(**30**, ...) : 노드의 개수, 출력층의 개수는 한 개로 만들어야 한다. (둘 중 하나로 골라줘야 하기 때문에, 세개로 나눈다면 3이다. 두개로 나누면 1)\n",
    "- input_dim : 속성의 개수, 속성 개수를 정확히 작성해야 한다.\n",
    "- activation : 활성화 함수, 네 가지 종류가 있다.\n",
    "  - relu\n",
    "  - sigmoid\n",
    "  - tanh\n",
    "  - linear"
   ]
  },
  {
   "cell_type": "code",
   "execution_count": null,
   "metadata": {
    "id": "gvBLvrSP4oKX"
   },
   "outputs": [],
   "source": [
    "model.compile(loss='mean_squared_error', optimizer='adam', metrics=['accuracy'])\n",
    "model.fit(X, Y, epochs=30, batch_size=10)\n",
    "# 덩어리를 크게 돌린다. Batch_size : 미분되는 간격이 크거나 작게 한다."
   ]
  },
  {
   "cell_type": "code",
   "execution_count": null,
   "metadata": {
    "id": "qK0CyveB4xu9"
   },
   "outputs": [],
   "source": [
    "print(\"\\n Accuracy: %.4f\" % (model.evaluate(X, Y)[1]))"
   ]
  },
  {
   "cell_type": "code",
   "execution_count": null,
   "metadata": {
    "colab": {
     "base_uri": "https://localhost:8080/"
    },
    "executionInfo": {
     "elapsed": 151,
     "status": "ok",
     "timestamp": 1750315412513,
     "user": {
      "displayName": "30822 조인성 jh",
      "userId": "11532178935489704434"
     },
     "user_tz": -540
    },
    "id": "obwuAEbX4_Rk",
    "outputId": "f565b2de-0d76-40d3-8365-c1f0a7d6b2b3"
   },
   "outputs": [],
   "source": [
    "model1 = Sequential() # 모델의 이름을 설정해준다.\n",
    "model1.add(Dense(30, input_dim=17, activation='relu'))\n",
    "model1.add(Dense(26, activation='relu'))\n",
    "model1.add(Dense(22, activation='relu'))\n",
    "model1.add(Dense(10, activation='relu'))\n",
    "model1.add(Dense(6, activation='relu'))\n",
    "model1.add(Dense(1, activation='sigmoid'))"
   ]
  },
  {
   "cell_type": "code",
   "execution_count": null,
   "metadata": {
    "colab": {
     "base_uri": "https://localhost:8080/"
    },
    "executionInfo": {
     "elapsed": 27710,
     "status": "ok",
     "timestamp": 1750315440227,
     "user": {
      "displayName": "30822 조인성 jh",
      "userId": "11532178935489704434"
     },
     "user_tz": -540
    },
    "id": "szGGi2BJ48dc",
    "outputId": "d4bf3a44-9e47-4707-b209-2b0d0316e69d"
   },
   "outputs": [],
   "source": [
    "model1.compile(loss='mean_squared_error', optimizer='adam', metrics=['accuracy'])\n",
    "model1.fit(X, Y, epochs=60, batch_size=5)\n",
    "print(\"\\n Accuracy: %.4f\" % (model1.evaluate(X, Y)[1]))"
   ]
  },
  {
   "cell_type": "code",
   "execution_count": null,
   "metadata": {
    "id": "T5FqJGYB5SA4"
   },
   "outputs": [],
   "source": []
  }
 ],
 "metadata": {
  "colab": {
   "authorship_tag": "ABX9TyP3O0AJdbWL9gYPq0E3PgW1",
   "provenance": []
  },
  "kernelspec": {
   "display_name": "Python 3",
   "name": "python3"
  },
  "language_info": {
   "codemirror_mode": {
    "name": "ipython",
    "version": 3
   },
   "file_extension": ".py",
   "mimetype": "text/x-python",
   "name": "python",
   "nbconvert_exporter": "python",
   "pygments_lexer": "ipython3",
   "version": "3.11.9"
  }
 },
 "nbformat": 4,
 "nbformat_minor": 0
}
