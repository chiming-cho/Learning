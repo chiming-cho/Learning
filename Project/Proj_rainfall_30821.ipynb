{
  "cells": [
    {
      "cell_type": "markdown",
      "metadata": {
        "id": "ITrtDJtA__LB"
      },
      "source": [
        "### 강수량 예측 프로그램-확률과 통계 탐구"
      ]
    },
    {
      "cell_type": "code",
      "execution_count": null,
      "metadata": {
        "id": "aHT_hell__aS"
      },
      "outputs": [],
      "source": [
        "import os\n",
        "import pandas as pd\n",
        "import numpy as np\n",
        "import matplotlib.pyplot as plt\n",
        "import seaborn as sns\n",
        "import sklearn.model_selection\n",
        "from sklearn.model_selection import train_test_split\n",
        "from sklearn.linear_model import LinearRegression\n",
        "from sklearn.metrics import mean_squared_error, r2_score, mean_absolute_error"
      ]
    },
    {
      "cell_type": "code",
      "execution_count": null,
      "metadata": {
        "id": "4g4nvm2HBGkI"
      },
      "outputs": [],
      "source": [
        "df = pd.read_csv('/content/data_jeju.csv')\n",
        "print(df.head(5))"
      ]
    },
    {
      "cell_type": "code",
      "execution_count": null,
      "metadata": {
        "id": "8ppCiaFiC3ux"
      },
      "outputs": [],
      "source": [
        "print(df.info())"
      ]
    },
    {
      "cell_type": "code",
      "execution_count": null,
      "metadata": {
        "id": "CdbuV283DHvH"
      },
      "outputs": [],
      "source": [
        "# 'date'과 'city' 열 제거\n",
        "df_cleaned= df.drop(columns=['기준 연월', '지역 구분','최심신적설(cm)','평균운량(1/10)' ])\n",
        "\n",
        "# 결과 확인\n",
        "df_cleaned.head()\n",
        "\n",
        "df_cleaned.columns = ['temperature','rainfall','moisture','sealevelpressure','dewpoint','daylight(hr)','windspeed']\n",
        "df_cleaned.head()"
      ]
    },
    {
      "cell_type": "code",
      "execution_count": null,
      "metadata": {
        "id": "cqClLvs5H4IC"
      },
      "outputs": [],
      "source": [
        "corrleation = df_cleaned.corr()\n",
        "plt.figure(figsize=(10, 8))\n",
        "sns.heatmap(corrleation, annot=True, cmap='coolwarm')\n",
        "plt.show()"
      ]
    },
    {
      "cell_type": "code",
      "execution_count": null,
      "metadata": {
        "id": "CfgMs_x0Ej_D"
      },
      "outputs": [],
      "source": [
        "x=df_cleaned.drop(columns=['rainfall'])\n",
        "y=df_cleaned['rainfall']"
      ]
    },
    {
      "cell_type": "code",
      "execution_count": null,
      "metadata": {
        "id": "F9ghunrXMSwt"
      },
      "outputs": [],
      "source": [
        "x_train, x_test, y_train, y_test = train_test_split(x, y, test_size=0.3, random_state=42)"
      ]
    },
    {
      "cell_type": "code",
      "execution_count": null,
      "metadata": {
        "id": "CkqNFV0-NUdG"
      },
      "outputs": [],
      "source": [
        "from keras.models import Sequential\n",
        "from keras.layers import Dense\n",
        "from sklearn.preprocessing import StandardScaler\n",
        "\n",
        "#정규화\n",
        "scaler = StandardScaler()\n",
        "x_train_scaled = scaler.fit_transform(x_train)\n",
        "x_test_scaled = scaler.transform(x_test)\n",
        "\n",
        "y_scaler = StandardScaler()\n",
        "y_train_scaled = y_scaler.fit_transform(y_train.values.reshape(-1,1))\n",
        "y_test_scaled = y_scaler.transform(y_test.values.reshape(-1, 1))"
      ]
    },
    {
      "cell_type": "code",
      "execution_count": null,
      "metadata": {
        "id": "zI7gUomqOWJ7"
      },
      "outputs": [],
      "source": [
        " model = Sequential()\n",
        " model.add(Dense(200,input_dim=x.shape[1], activation='relu'))\n",
        " model.add(Dense(160, activation='linear'))\n",
        " model.add(Dense(100, activation='relu'))\n",
        " model.add(Dense(1, activation='linear'))\n",
        " model.compile(loss='mse',metrics=['mae'], optimizer='adam')\n",
        " model.fit(x_train_scaled, y_train_scaled, epochs=300, batch_size=30, validation_split=0.2)"
      ]
    },
    {
      "cell_type": "code",
      "execution_count": null,
      "metadata": {
        "id": "PUV8zQ-iPp1C"
      },
      "outputs": [],
      "source": [
        "y_pred_scaled = model.predict(x_test_scaled)\n",
        "y_pred = y_scaler.inverse_transform(y_pred_scaled)\n",
        "mse = mean_squared_error(y_test, y_pred.flatten())\n",
        "mae = mean_absolute_error(y_test, y_pred.flatten())\n",
        "rmse = np.sqrt(mse)\n",
        "r2 = r2_score(y_test, y_pred.flatten())\n",
        "\n",
        "print(f'MSE  : {mse:.2f}')\n",
        "print(f'MAE(평균적으로 몇mm의 오차가 발생하는지)  : {mae:.2f}')\n",
        "print(f'RMSE(평균적인 예측 오차 mm) : {rmse:.2f}')\n",
        "print(f'R²   : {r2:.2f}')\n"
      ]
    },
    {
      "cell_type": "code",
      "execution_count": null,
      "metadata": {
        "id": "eUO2Hr9d9BCo"
      },
      "outputs": [],
      "source": [
        "import matplotlib.pyplot as plt\n",
        "import pandas as pd\n",
        "\n",
        "# Align indices (if needed)\n",
        "y_test_sorted = y_test.reset_index(drop=True)\n",
        "y_pred_sorted = pd.Series(y_pred.flatten()).reset_index(drop=True)\n",
        "plt.figure(figsize=(12, 6))\n",
        "plt.plot(y_test_sorted, label='Actual Rainfall', color='blue', marker='o')\n",
        "plt.plot(y_pred_sorted, label='Predicted Rainfall', color='orange', marker='x')\n",
        "plt.title(' Actual / Predicted Rainfall')\n",
        "plt.xlabel('Test Sample Index')\n",
        "plt.ylabel('Rainfall (mm)')\n",
        "plt.legend()\n",
        "plt.grid(True)\n",
        "plt.tight_layout()\n",
        "plt.show()"
      ]
    },
    {
      "cell_type": "markdown",
      "metadata": {
        "id": "rYKerMWPUHCe"
      },
      "source": [
        "#조건부확률을 이용한 강수량 예측\n",
        "비가 온다고 가정한 후 입력하는 조건에 따라 강수량을 예측함"
      ]
    },
    {
      "cell_type": "code",
      "execution_count": null,
      "metadata": {
        "id": "Pqpp1Z54Q6ht"
      },
      "outputs": [],
      "source": [
        "import pandas as pd\n",
        "\n",
        "# 데이터 불러오기\n",
        "df = pd.read_csv('/content/data_jeju.csv')\n",
        "df = df.drop(columns=['date', 'city'])\n",
        "\n",
        "# 조건 1: 월 평균 기온이 근처인 데이터만 필터링 (±0.5도 허용)\n",
        "target_temp = int(input(\"월 평균 기온(℃) : \"))\n",
        "delta = 0.5\n",
        "filtered_df = df[(df['temperature'] >= target_temp - delta) & (df['temperature'] <= target_temp + delta)]\n",
        "\n",
        "# 조건 2: 강수량이 특정 값 이상 (예: 10mm 이상)\n",
        "rain_threshold = int(input(\"기준 강수량(mm) : \"))\n",
        "st_rain = filtered_df['rainfall'] >= rain_threshold\n",
        "print(st_rain)\n",
        "\n",
        "count_rain = st_rain.sum()  #기온이 21도 근처인 데이터 중 강수량이 특정값 이상인 데이터\n",
        "tem_count = len(filtered_df)\n",
        "\n",
        "print(count_rain)\n",
        "print(tem_count)\n",
        "\n",
        "\n",
        "# 조건부 확률 계산\n",
        "if tem_count > 0:\n",
        "    conditional = count_rain / tem_count\n",
        "    print(f\"월 평균 기온이 약 {target_temp}℃일 때, 강수량이 {rain_threshold}mm 이상일 확률: {conditional :.2%}\")\n",
        "else:\n",
        "    print(\"해당 조건을 만족하는 데이터가 없습니다.\")"
      ]
    }
  ],
  "metadata": {
    "colab": {
      "provenance": []
    },
    "kernelspec": {
      "display_name": "Python 3",
      "name": "python3"
    },
    "language_info": {
      "name": "python",
      "version": "3.11.9"
    }
  },
  "nbformat": 4,
  "nbformat_minor": 0
}
